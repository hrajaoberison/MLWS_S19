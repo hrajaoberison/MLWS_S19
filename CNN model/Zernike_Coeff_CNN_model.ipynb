{
  "nbformat": 4,
  "nbformat_minor": 0,
  "metadata": {
    "colab": {
      "name": "Zernike_Coeff_CNN_model.ipynb",
      "version": "0.3.2",
      "provenance": [],
      "collapsed_sections": [
        "YzSkmS-MDbKB",
        "TOTStScsDu--",
        "0A1g7f-ldgGI",
        "lQJHT0stHB2d",
        "mj5nsmN0HoVR",
        "cZ3EJ5WrIF9S",
        "3Fe9OWSvJMkO",
        "_1V5_frhQ0uC",
        "rQcldCyRRRi4",
        "qHLVABwFRaRE"
      ],
      "toc_visible": true,
      "machine_shape": "hm",
      "include_colab_link": true
    },
    "kernelspec": {
      "name": "python3",
      "display_name": "Python 3"
    },
    "accelerator": "GPU"
  },
  "cells": [
    {
      "cell_type": "markdown",
      "metadata": {
        "id": "view-in-github",
        "colab_type": "text"
      },
      "source": [
        "<a href=\"https://colab.research.google.com/github/hrajaoberison/MLWS_S19/blob/master/CNN%20model/Zernike_Coeff_CNN_model.ipynb\" target=\"_parent\"><img src=\"https://colab.research.google.com/assets/colab-badge.svg\" alt=\"Open In Colab\"/></a>"
      ]
    },
    {
      "cell_type": "markdown",
      "metadata": {
        "id": "VXmR8PwEMQmI",
        "colab_type": "text"
      },
      "source": [
        "#Machine Learning Wavefront Sensing Project (Summer 2019)\n",
        "\n",
        "Below is the most recent script for CNN for estimating Zernike Coefficient of a given image. It covers all the procedure for Supervised Learning case of regression, from loading dataset to making prediction.\n",
        "\n",
        "\n",
        "\"\"\n",
        "author: Heriniaina Rajaoberison\n",
        "\"\""
      ]
    },
    {
      "cell_type": "markdown",
      "metadata": {
        "id": "YzSkmS-MDbKB",
        "colab_type": "text"
      },
      "source": [
        "##Import all the necessary libraries to be used later"
      ]
    },
    {
      "cell_type": "code",
      "metadata": {
        "id": "bjKCSweeSui4",
        "colab_type": "code",
        "colab": {}
      },
      "source": [
        "# Scientific and vector computation for python\n",
        "import numpy as np\n",
        "\n",
        "# This will be used to open some of the csv data\n",
        "import csv\n",
        "\n",
        "# Machine Learning library\n",
        "import tensorflow as tf\n",
        "import keras\n",
        "from tensorflow.keras.models import Sequential, Model, load_model\n",
        "from keras.models import Input\n",
        "from keras.layers.normalization import BatchNormalization\n",
        "from tensorflow.keras.layers import LeakyReLU, Flatten, Conv2D, MaxPooling2D, Dense, Dropout, AveragePooling2D\n",
        "\n",
        "# Scikit learn for splitting data and determining RMSE\n",
        "from sklearn.model_selection import train_test_split\n",
        "from sklearn.metrics import mean_squared_error"
      ],
      "execution_count": 0,
      "outputs": []
    },
    {
      "cell_type": "markdown",
      "metadata": {
        "id": "TOTStScsDu--",
        "colab_type": "text"
      },
      "source": [
        "## Import drive in which all the dataset are stored"
      ]
    },
    {
      "cell_type": "code",
      "metadata": {
        "id": "0GrTTMQma-3U",
        "colab_type": "code",
        "outputId": "2564d3d7-bd28-4d68-f46e-d7de913775d8",
        "colab": {
          "base_uri": "https://localhost:8080/",
          "height": 122
        }
      },
      "source": [
        "from google.colab import drive\n",
        "drive.mount('/drive')"
      ],
      "execution_count": 0,
      "outputs": [
        {
          "output_type": "stream",
          "text": [
            "Go to this URL in a browser: https://accounts.google.com/o/oauth2/auth?client_id=947318989803-6bn6qk8qdgf4n4g3pfee6491hc0brc4i.apps.googleusercontent.com&redirect_uri=urn%3Aietf%3Awg%3Aoauth%3A2.0%3Aoob&scope=email%20https%3A%2F%2Fwww.googleapis.com%2Fauth%2Fdocs.test%20https%3A%2F%2Fwww.googleapis.com%2Fauth%2Fdrive%20https%3A%2F%2Fwww.googleapis.com%2Fauth%2Fdrive.photos.readonly%20https%3A%2F%2Fwww.googleapis.com%2Fauth%2Fpeopleapi.readonly&response_type=code\n",
            "\n",
            "Enter your authorization code:\n",
            "··········\n",
            "Mounted at /drive\n"
          ],
          "name": "stdout"
        }
      ]
    },
    {
      "cell_type": "markdown",
      "metadata": {
        "id": "0A1g7f-ldgGI",
        "colab_type": "text"
      },
      "source": [
        "## Load all image dataset\n",
        "\n"
      ]
    },
    {
      "cell_type": "markdown",
      "metadata": {
        "id": "UV9h7aO4EKms",
        "colab_type": "text"
      },
      "source": [
        "**Image data with Zernike Coefficient of 5**"
      ]
    },
    {
      "cell_type": "code",
      "metadata": {
        "id": "LZDYf5uyaXA5",
        "colab_type": "code",
        "outputId": "3f0f4a71-46a9-42d1-a462-641b6bee9b8d",
        "colab": {
          "base_uri": "https://localhost:8080/",
          "height": 34
        }
      },
      "source": [
        "# Load image data\n",
        "files = '/drive/My Drive/INTERNSHIP 2019/ImgDataSet/#5(64x64)/Img_Data_Coeff_5(64x64).npy'\n",
        "X5 = np.load(files)\n",
        "X5 = X5[0:2293,:]\n",
        "print(X5.shape)"
      ],
      "execution_count": 0,
      "outputs": [
        {
          "output_type": "stream",
          "text": [
            "(2293, 64, 64, 3)\n"
          ],
          "name": "stdout"
        }
      ]
    },
    {
      "cell_type": "code",
      "metadata": {
        "id": "RU7hjtuMaX19",
        "colab_type": "code",
        "outputId": "9916a9d4-6b72-487f-f56e-b8cc0e18e113",
        "colab": {
          "base_uri": "https://localhost:8080/",
          "height": 34
        }
      },
      "source": [
        "# Open the Zernike Coefficient CSV file\n",
        "yList = []\n",
        "with open('/drive/My Drive/INTERNSHIP 2019/ImgDataSet/#5(64x64)/ZernikeCoeff_list.csv', 'r') as csvfile:\n",
        "    y_reader = csv.reader(csvfile, delimiter=',', quoting=csv.QUOTE_NONNUMERIC)\n",
        "    for y_row in y_reader:\n",
        "        yList.append(y_row)\n",
        "\n",
        "# Set the output shape to a 2293 x 14 matrix\n",
        "Y5 = np.stack(yList)\n",
        "y_zeros = np.zeros((2293,9))\n",
        "Y5 = Y5[0:2293,:]\n",
        "Y5 = np.concatenate((Y5,y_zeros), axis =1)\n",
        "print(Y5.shape)"
      ],
      "execution_count": 0,
      "outputs": [
        {
          "output_type": "stream",
          "text": [
            "(2293, 14)\n"
          ],
          "name": "stdout"
        }
      ]
    },
    {
      "cell_type": "markdown",
      "metadata": {
        "id": "39I8idihdanx",
        "colab_type": "text"
      },
      "source": [
        "**Image data with Zernike Coefficient of 7**"
      ]
    },
    {
      "cell_type": "code",
      "metadata": {
        "id": "pJ2yKj_vZ3ts",
        "colab_type": "code",
        "outputId": "a468a78e-6478-4344-b890-2ad1b3509ac9",
        "colab": {
          "base_uri": "https://localhost:8080/",
          "height": 34
        }
      },
      "source": [
        "# Load the image data\n",
        "files = '/drive/My Drive/INTERNSHIP 2019/ImgDataSet/#7(64x64)/ImgData_coeff_7(64x64).npy'\n",
        "X7 = np.load(files)\n",
        "X7 = X7[0:3000,:]\n",
        "print(X7.shape)"
      ],
      "execution_count": 0,
      "outputs": [
        {
          "output_type": "stream",
          "text": [
            "(3000, 64, 64, 3)\n"
          ],
          "name": "stdout"
        }
      ]
    },
    {
      "cell_type": "code",
      "metadata": {
        "id": "627ngBm1Z_Ev",
        "colab_type": "code",
        "outputId": "09a1edd5-047f-437a-fe04-9819b9716c0b",
        "colab": {
          "base_uri": "https://localhost:8080/",
          "height": 34
        }
      },
      "source": [
        "# Open the Zernike Coefficient CSV file\n",
        "yList = []\n",
        "with open('/drive/My Drive/INTERNSHIP 2019/ImgDataSet/#7(64x64)/ZernikeCoeff_list.csv', 'r') as csvfile:\n",
        "    y_reader = csv.reader(csvfile, delimiter=',', quoting=csv.QUOTE_NONNUMERIC)\n",
        "    for y_row in y_reader:\n",
        "        yList.append(y_row)\n",
        "\n",
        "# Set the output shape to a 3000 x 14 matrix\n",
        "Y7 = np.stack(yList)\n",
        "Y7 = Y7[0:3000,:]\n",
        "y_zeros = np.zeros((3000,7))\n",
        "Y7 = np.concatenate((Y7,y_zeros), axis =1)\n",
        "print(Y7.shape)"
      ],
      "execution_count": 0,
      "outputs": [
        {
          "output_type": "stream",
          "text": [
            "(3000, 14)\n"
          ],
          "name": "stdout"
        }
      ]
    },
    {
      "cell_type": "markdown",
      "metadata": {
        "id": "iH6XyRqUdUx2",
        "colab_type": "text"
      },
      "source": [
        "**Image dataset with Zernike Coefficient of 8**"
      ]
    },
    {
      "cell_type": "code",
      "metadata": {
        "id": "cvSGvKEybElX",
        "colab_type": "code",
        "outputId": "e44c0c7b-6a6f-4096-a1a5-daafe7e89fe8",
        "colab": {
          "base_uri": "https://localhost:8080/",
          "height": 34
        }
      },
      "source": [
        "# Load the image data\n",
        "files = '/drive/My Drive/INTERNSHIP 2019/ImgDataSet/#8(64x64)/ImgData_coeff_8(3000x64x64).npy'\n",
        "X8 = np.load(files)\n",
        "X8 = X8[0:3000,:]\n",
        "print(X8.shape)"
      ],
      "execution_count": 0,
      "outputs": [
        {
          "output_type": "stream",
          "text": [
            "(3000, 64, 64, 3)\n"
          ],
          "name": "stdout"
        }
      ]
    },
    {
      "cell_type": "code",
      "metadata": {
        "id": "vNakaKhxbHUF",
        "colab_type": "code",
        "outputId": "0ba45b2e-41fb-44b9-e4aa-2ea680ada798",
        "colab": {
          "base_uri": "https://localhost:8080/",
          "height": 34
        }
      },
      "source": [
        "# Open the Zernike Coefficient CSV file\n",
        "yList = []\n",
        "with open('/drive/My Drive/INTERNSHIP 2019/ImgDataSet/#8(64x64)/ZernikeCoeff_list.csv', 'r') as csvfile:\n",
        "    y_reader = csv.reader(csvfile, delimiter=',', quoting=csv.QUOTE_NONNUMERIC)\n",
        "    for y_row in y_reader:\n",
        "        yList.append(y_row)\n",
        "\n",
        "# Set the output shape to a 3000 x 14 matrix\n",
        "Y8 = np.stack(yList)\n",
        "Y8 = Y8[0:3000,:]\n",
        "y_zeros = np.zeros((3000,6))\n",
        "Y8 = np.concatenate((Y8,y_zeros), axis =1)\n",
        "print(Y8.shape)"
      ],
      "execution_count": 0,
      "outputs": [
        {
          "output_type": "stream",
          "text": [
            "(3000, 14)\n"
          ],
          "name": "stdout"
        }
      ]
    },
    {
      "cell_type": "markdown",
      "metadata": {
        "id": "7mLv_XeBkdvD",
        "colab_type": "text"
      },
      "source": [
        "**Image dataset with Zernike Coefficient of 9**"
      ]
    },
    {
      "cell_type": "code",
      "metadata": {
        "id": "-fnbNlo9khDr",
        "colab_type": "code",
        "outputId": "82255870-3337-4598-9e50-1aa9e35a512c",
        "colab": {
          "base_uri": "https://localhost:8080/",
          "height": 34
        }
      },
      "source": [
        "# Load the image data\n",
        "files = '/drive/My Drive/INTERNSHIP 2019/ImgDataSet/#9(64x64)/ImgData_coeff_9(3000x64x64).npy'\n",
        "X9 = np.load(files)\n",
        "X9 = X9[0:3000,:]\n",
        "print(X9.shape)"
      ],
      "execution_count": 0,
      "outputs": [
        {
          "output_type": "stream",
          "text": [
            "(3000, 64, 64, 3)\n"
          ],
          "name": "stdout"
        }
      ]
    },
    {
      "cell_type": "code",
      "metadata": {
        "id": "Yjkh3Sjkkkjk",
        "colab_type": "code",
        "outputId": "563e363b-adbf-4f06-fcd2-eed70f4ff1ac",
        "colab": {
          "base_uri": "https://localhost:8080/",
          "height": 34
        }
      },
      "source": [
        "# Open the Zernike Coefficient CSV file\n",
        "yList = []\n",
        "with open('/drive/My Drive/INTERNSHIP 2019/ImgDataSet/#9(64x64)/ZernikeCoeff_list.csv', 'r') as csvfile:\n",
        "    y_reader = csv.reader(csvfile, delimiter=',', quoting=csv.QUOTE_NONNUMERIC)\n",
        "    for y_row in y_reader:\n",
        "        yList.append(y_row)\n",
        "\n",
        "# Set the output shape to a 3000 x 14 matrix\n",
        "Y9 = np.stack(yList)\n",
        "Y9 = Y9[0:3000,:]\n",
        "y_zeros = np.zeros((3000,5))\n",
        "Y9 = np.concatenate((Y9,y_zeros), axis =1)\n",
        "print(Y9.shape)"
      ],
      "execution_count": 0,
      "outputs": [
        {
          "output_type": "stream",
          "text": [
            "(3000, 14)\n"
          ],
          "name": "stdout"
        }
      ]
    },
    {
      "cell_type": "markdown",
      "metadata": {
        "id": "aeaBaxId4PDP",
        "colab_type": "text"
      },
      "source": [
        "**Image dataset with Zernike Coefficient of 10**"
      ]
    },
    {
      "cell_type": "code",
      "metadata": {
        "id": "ULmmzNPE4OKo",
        "colab_type": "code",
        "outputId": "bc105857-a953-41b8-cdb0-d93f67816dc6",
        "colab": {
          "base_uri": "https://localhost:8080/",
          "height": 34
        }
      },
      "source": [
        "# Load the image data\n",
        "files = '/drive/My Drive/INTERNSHIP 2019/ImgDataSet/#10(3000x64x64)/ImgData_coeff_10(3000x64x64).npy'\n",
        "X10 = np.load(files)\n",
        "X10 = X10[0:3000,:]\n",
        "print(X10.shape)"
      ],
      "execution_count": 0,
      "outputs": [
        {
          "output_type": "stream",
          "text": [
            "(3000, 64, 64, 3)\n"
          ],
          "name": "stdout"
        }
      ]
    },
    {
      "cell_type": "code",
      "metadata": {
        "id": "oGvjw_J74WbX",
        "colab_type": "code",
        "outputId": "d328965a-7c2c-42b8-f348-589e0245414f",
        "colab": {
          "base_uri": "https://localhost:8080/",
          "height": 34
        }
      },
      "source": [
        "# Open the Zernike Coefficient CSV file\n",
        "yList = []\n",
        "with open('/drive/My Drive/INTERNSHIP 2019/ImgDataSet/#10(3000x64x64)/ZernikeCoeff_list.csv', 'r') as csvfile:\n",
        "    y_reader = csv.reader(csvfile, delimiter=',', quoting=csv.QUOTE_NONNUMERIC)\n",
        "    for y_row in y_reader:\n",
        "        yList.append(y_row)\n",
        "\n",
        "# Set the output shape to a 3000 x 14 matrix\n",
        "Y10 = np.stack(yList)\n",
        "Y10 = Y10[0:3000,:]\n",
        "y_zeros = np.zeros((3000,4))\n",
        "Y10 = np.concatenate((Y10,y_zeros), axis =1)\n",
        "print(Y10.shape)"
      ],
      "execution_count": 0,
      "outputs": [
        {
          "output_type": "stream",
          "text": [
            "(3000, 14)\n"
          ],
          "name": "stdout"
        }
      ]
    },
    {
      "cell_type": "markdown",
      "metadata": {
        "id": "wQuwHWkRZE25",
        "colab_type": "text"
      },
      "source": [
        "**Image dataset with Zernike Coefficient of 12**"
      ]
    },
    {
      "cell_type": "code",
      "metadata": {
        "id": "qrLZbIZRZn5O",
        "colab_type": "code",
        "outputId": "195a0098-dc34-4c0d-8a4b-0b762e61ffad",
        "colab": {
          "base_uri": "https://localhost:8080/",
          "height": 34
        }
      },
      "source": [
        "# Load the image data\n",
        "files = '/drive/My Drive/INTERNSHIP 2019/ImgDataSet/#12(3000x64x64)/ImgData_coeff_12(3000x64x64).npy'\n",
        "X12 = np.load(files)\n",
        "X12 = X12[0:3000,:]\n",
        "print(X12.shape)"
      ],
      "execution_count": 0,
      "outputs": [
        {
          "output_type": "stream",
          "text": [
            "(3000, 64, 64, 3)\n"
          ],
          "name": "stdout"
        }
      ]
    },
    {
      "cell_type": "code",
      "metadata": {
        "id": "5iN23R33Znu-",
        "colab_type": "code",
        "outputId": "235380b1-b381-4496-f09c-4bef73a2ae5d",
        "colab": {
          "base_uri": "https://localhost:8080/",
          "height": 34
        }
      },
      "source": [
        "# Open the Zernike Coefficient CSV file\n",
        "yList = []\n",
        "with open('/drive/My Drive/INTERNSHIP 2019/ImgDataSet/#12(3000x64x64)/ZernikeCoeff_list.csv', 'r') as csvfile:\n",
        "    y_reader = csv.reader(csvfile, delimiter=',', quoting=csv.QUOTE_NONNUMERIC)\n",
        "    for y_row in y_reader:\n",
        "        yList.append(y_row)\n",
        "\n",
        "# Set the output shape to a 3000 x 14 matrix\n",
        "Y12 = np.stack(yList)\n",
        "Y12 = Y12[0:3000,:]\n",
        "y_zeros = np.zeros((3000,2))\n",
        "Y12 = np.concatenate((Y12,y_zeros), axis =1)\n",
        "print(Y12.shape)"
      ],
      "execution_count": 0,
      "outputs": [
        {
          "output_type": "stream",
          "text": [
            "(3000, 14)\n"
          ],
          "name": "stdout"
        }
      ]
    },
    {
      "cell_type": "markdown",
      "metadata": {
        "id": "vRHl7xKOZLsW",
        "colab_type": "text"
      },
      "source": [
        "**Image dataset with Zernike Coefficient of 14**"
      ]
    },
    {
      "cell_type": "code",
      "metadata": {
        "id": "Bttamh_JZPtl",
        "colab_type": "code",
        "outputId": "26c5e774-ad75-45dc-9897-0c9f18d1b731",
        "colab": {
          "base_uri": "https://localhost:8080/",
          "height": 34
        }
      },
      "source": [
        "# Load the image data\n",
        "files = '/drive/My Drive/INTERNSHIP 2019/ImgDataSet/#14(3000x64x64)/ImgData_coeff_14(3000x64x64).npy'\n",
        "X14 = np.load(files)\n",
        "X14 = X14[0:3000,:]\n",
        "print(X14.shape)"
      ],
      "execution_count": 0,
      "outputs": [
        {
          "output_type": "stream",
          "text": [
            "(3000, 64, 64, 3)\n"
          ],
          "name": "stdout"
        }
      ]
    },
    {
      "cell_type": "code",
      "metadata": {
        "id": "ME8ZYvwDZoc1",
        "colab_type": "code",
        "outputId": "3de43dc8-bd37-4bbf-fbb7-e29fa0839bb8",
        "colab": {
          "base_uri": "https://localhost:8080/",
          "height": 34
        }
      },
      "source": [
        "# Open the Zernike Coefficient CSV file\n",
        "yList = []\n",
        "with open('/drive/My Drive/INTERNSHIP 2019/ImgDataSet/#14(3000x64x64)/ZernikeCoeff_list.csv', 'r') as csvfile:\n",
        "    y_reader = csv.reader(csvfile, delimiter=',', quoting=csv.QUOTE_NONNUMERIC)\n",
        "    for y_row in y_reader:\n",
        "        yList.append(y_row)\n",
        "\n",
        "# Set the output shape to a 3000 x 14 matrix\n",
        "Y14 = np.stack(yList)\n",
        "Y14 = Y14[0:3000,:]\n",
        "print(Y14.shape)"
      ],
      "execution_count": 0,
      "outputs": [
        {
          "output_type": "stream",
          "text": [
            "(3000, 14)\n"
          ],
          "name": "stdout"
        }
      ]
    },
    {
      "cell_type": "markdown",
      "metadata": {
        "id": "Z5WxS1bzGqrh",
        "colab_type": "text"
      },
      "source": [
        "**Put all input data together as X and all output data together as Y**"
      ]
    },
    {
      "cell_type": "code",
      "metadata": {
        "id": "DdTRxRMvaDHz",
        "colab_type": "code",
        "outputId": "500f536c-2f32-41d8-935e-08de87af201e",
        "colab": {
          "base_uri": "https://localhost:8080/",
          "height": 51
        }
      },
      "source": [
        "X = np.concatenate((X5,X7,X8,X9,X10,X12,X14), axis = 0)\n",
        "Y = np.concatenate((Y5,Y7,Y8,Y9,Y10,Y12,Y14), axis = 0)\n",
        "print(X.shape)\n",
        "print(Y.shape)"
      ],
      "execution_count": 0,
      "outputs": [
        {
          "output_type": "stream",
          "text": [
            "(20293, 64, 64, 3)\n",
            "(20293, 14)\n"
          ],
          "name": "stdout"
        }
      ]
    },
    {
      "cell_type": "markdown",
      "metadata": {
        "id": "lQJHT0stHB2d",
        "colab_type": "text"
      },
      "source": [
        "## Split up our dataset into a train set and a test set"
      ]
    },
    {
      "cell_type": "code",
      "metadata": {
        "id": "V3uYEk1baY-z",
        "colab_type": "code",
        "colab": {}
      },
      "source": [
        "\n",
        "X_train, X_test, Y_train, Y_test = train_test_split(X, Y, test_size = 0.15, random_state=42)"
      ],
      "execution_count": 0,
      "outputs": []
    },
    {
      "cell_type": "markdown",
      "metadata": {
        "id": "LS-kBVgqHMFJ",
        "colab_type": "text"
      },
      "source": [
        "**Normalize our data: since we work with image pixel that goes from 0 to 255, dividing the data by 255 is  all needed for normalization**"
      ]
    },
    {
      "cell_type": "code",
      "metadata": {
        "id": "7vKRTknfHJ4e",
        "colab_type": "code",
        "colab": {}
      },
      "source": [
        "X_test = X_test / 255\n",
        "X_train = X_train / 255"
      ],
      "execution_count": 0,
      "outputs": []
    },
    {
      "cell_type": "markdown",
      "metadata": {
        "id": "mj5nsmN0HoVR",
        "colab_type": "text"
      },
      "source": [
        "## Create a Convolutional Neural Network Model for Image Regression"
      ]
    },
    {
      "cell_type": "code",
      "metadata": {
        "id": "T8pzy0S0agYY",
        "colab_type": "code",
        "colab": {}
      },
      "source": [
        "img_size = 64\n",
        "output_size = 14\n",
        "model = Sequential([\n",
        "        Conv2D(32, (3,3), activation='linear', input_shape=(img_size,img_size,3)),\n",
        "        LeakyReLU(alpha=0.3),\n",
        "        MaxPooling2D((2, 2),padding='same'),\n",
        "        Conv2D(64, (3,3), activation='linear',padding='same'),\n",
        "        LeakyReLU(alpha=0.3),\n",
        "        MaxPooling2D(pool_size=(2, 2),padding='same'),\n",
        "        Conv2D(128, (3,3), activation='linear',padding='same'),\n",
        "        LeakyReLU(alpha=0.3),\n",
        "        MaxPooling2D(pool_size=(2, 2),padding='same'),\n",
        "        Conv2D(256, (3,3), activation='linear',padding='same'),\n",
        "        LeakyReLU(alpha=0.3),\n",
        "        MaxPooling2D(pool_size=(2, 2),padding='same'),\n",
        "        Flatten(),\n",
        "        Dense(1024, activation='linear'),\n",
        "        LeakyReLU(alpha=0.3),  \n",
        "        Dropout(0.2),\n",
        "        Dense(output_size, activation='linear'),\n",
        "        ])"
      ],
      "execution_count": 0,
      "outputs": []
    },
    {
      "cell_type": "markdown",
      "metadata": {
        "id": "cZ3EJ5WrIF9S",
        "colab_type": "text"
      },
      "source": [
        "##Define the optimizer, loss function and metrics for our model"
      ]
    },
    {
      "cell_type": "code",
      "metadata": {
        "id": "N-tn5L9GahIT",
        "colab_type": "code",
        "colab": {}
      },
      "source": [
        "model.compile(optimizer= 'adam', loss= 'mean_squared_error', metrics=['accuracy'])"
      ],
      "execution_count": 0,
      "outputs": []
    },
    {
      "cell_type": "markdown",
      "metadata": {
        "id": "3Fe9OWSvJMkO",
        "colab_type": "text"
      },
      "source": [
        "## Begin training our model"
      ]
    },
    {
      "cell_type": "code",
      "metadata": {
        "id": "CRNdUXYQai7h",
        "colab_type": "code",
        "outputId": "1037d7c4-9226-4ea8-bedd-df81c6855062",
        "colab": {
          "base_uri": "https://localhost:8080/",
          "height": 1000
        }
      },
      "source": [
        "model.fit(X_train, Y_train, epochs=100, validation_split=0.2, shuffle=True, batch_size=200)\n",
        "model.summary()"
      ],
      "execution_count": 0,
      "outputs": [
        {
          "output_type": "stream",
          "text": [
            "Train on 13799 samples, validate on 3450 samples\n",
            "Epoch 1/100\n",
            "13799/13799 [==============================] - 4s 314us/sample - loss: 0.3493 - acc: 0.5496 - val_loss: 0.1621 - val_acc: 0.7043\n",
            "Epoch 2/100\n",
            "13799/13799 [==============================] - 4s 289us/sample - loss: 0.1287 - acc: 0.7365 - val_loss: 0.1064 - val_acc: 0.7655\n",
            "Epoch 3/100\n",
            "13799/13799 [==============================] - 4s 286us/sample - loss: 0.0897 - acc: 0.7809 - val_loss: 0.0767 - val_acc: 0.8049\n",
            "Epoch 4/100\n",
            "13799/13799 [==============================] - 4s 285us/sample - loss: 0.0727 - acc: 0.8028 - val_loss: 0.0788 - val_acc: 0.7820\n",
            "Epoch 5/100\n",
            "13799/13799 [==============================] - 4s 286us/sample - loss: 0.0667 - acc: 0.8079 - val_loss: 0.0706 - val_acc: 0.8041\n",
            "Epoch 6/100\n",
            "13799/13799 [==============================] - 4s 282us/sample - loss: 0.0619 - acc: 0.8111 - val_loss: 0.0722 - val_acc: 0.8270\n",
            "Epoch 7/100\n",
            "13799/13799 [==============================] - 4s 281us/sample - loss: 0.0539 - acc: 0.8263 - val_loss: 0.0563 - val_acc: 0.8368\n",
            "Epoch 8/100\n",
            "13799/13799 [==============================] - 4s 284us/sample - loss: 0.0481 - acc: 0.8326 - val_loss: 0.0508 - val_acc: 0.8481\n",
            "Epoch 9/100\n",
            "13799/13799 [==============================] - 4s 288us/sample - loss: 0.0447 - acc: 0.8382 - val_loss: 0.0504 - val_acc: 0.8330\n",
            "Epoch 10/100\n",
            "13799/13799 [==============================] - 4s 283us/sample - loss: 0.0434 - acc: 0.8386 - val_loss: 0.0451 - val_acc: 0.8403\n",
            "Epoch 11/100\n",
            "13799/13799 [==============================] - 4s 288us/sample - loss: 0.0403 - acc: 0.8451 - val_loss: 0.0452 - val_acc: 0.8420\n",
            "Epoch 12/100\n",
            "13799/13799 [==============================] - 4s 287us/sample - loss: 0.0397 - acc: 0.8462 - val_loss: 0.0410 - val_acc: 0.8536\n",
            "Epoch 13/100\n",
            "13799/13799 [==============================] - 4s 286us/sample - loss: 0.0367 - acc: 0.8493 - val_loss: 0.0405 - val_acc: 0.8386\n",
            "Epoch 14/100\n",
            "13799/13799 [==============================] - 4s 287us/sample - loss: 0.0325 - acc: 0.8596 - val_loss: 0.0403 - val_acc: 0.8490\n",
            "Epoch 15/100\n",
            "13799/13799 [==============================] - 4s 285us/sample - loss: 0.0329 - acc: 0.8586 - val_loss: 0.0382 - val_acc: 0.8623\n",
            "Epoch 16/100\n",
            "13799/13799 [==============================] - 4s 284us/sample - loss: 0.0314 - acc: 0.8574 - val_loss: 0.0361 - val_acc: 0.8675\n",
            "Epoch 17/100\n",
            "13799/13799 [==============================] - 4s 294us/sample - loss: 0.0285 - acc: 0.8651 - val_loss: 0.0371 - val_acc: 0.8655\n",
            "Epoch 18/100\n",
            "13799/13799 [==============================] - 4s 297us/sample - loss: 0.0267 - acc: 0.8698 - val_loss: 0.0339 - val_acc: 0.8681\n",
            "Epoch 19/100\n",
            "13799/13799 [==============================] - 4s 285us/sample - loss: 0.0259 - acc: 0.8652 - val_loss: 0.0373 - val_acc: 0.8530\n",
            "Epoch 20/100\n",
            "13799/13799 [==============================] - 4s 280us/sample - loss: 0.0247 - acc: 0.8737 - val_loss: 0.0332 - val_acc: 0.8638\n",
            "Epoch 21/100\n",
            "13799/13799 [==============================] - 4s 285us/sample - loss: 0.0229 - acc: 0.8764 - val_loss: 0.0332 - val_acc: 0.8713\n",
            "Epoch 22/100\n",
            "13799/13799 [==============================] - 4s 284us/sample - loss: 0.0242 - acc: 0.8737 - val_loss: 0.0369 - val_acc: 0.8507\n",
            "Epoch 23/100\n",
            "13799/13799 [==============================] - 4s 285us/sample - loss: 0.0226 - acc: 0.8747 - val_loss: 0.0354 - val_acc: 0.8626\n",
            "Epoch 24/100\n",
            "13799/13799 [==============================] - 4s 283us/sample - loss: 0.0207 - acc: 0.8806 - val_loss: 0.0327 - val_acc: 0.8664\n",
            "Epoch 25/100\n",
            "13799/13799 [==============================] - 4s 285us/sample - loss: 0.0202 - acc: 0.8815 - val_loss: 0.0346 - val_acc: 0.8516\n",
            "Epoch 26/100\n",
            "13799/13799 [==============================] - 4s 288us/sample - loss: 0.0189 - acc: 0.8911 - val_loss: 0.0363 - val_acc: 0.8452\n",
            "Epoch 27/100\n",
            "13799/13799 [==============================] - 4s 281us/sample - loss: 0.0192 - acc: 0.8859 - val_loss: 0.0297 - val_acc: 0.8699\n",
            "Epoch 28/100\n",
            "13799/13799 [==============================] - 4s 284us/sample - loss: 0.0178 - acc: 0.8868 - val_loss: 0.0313 - val_acc: 0.8641\n",
            "Epoch 29/100\n",
            "13799/13799 [==============================] - 4s 288us/sample - loss: 0.0178 - acc: 0.8842 - val_loss: 0.0315 - val_acc: 0.8594\n",
            "Epoch 30/100\n",
            "13799/13799 [==============================] - 4s 287us/sample - loss: 0.0173 - acc: 0.8920 - val_loss: 0.0317 - val_acc: 0.8588\n",
            "Epoch 31/100\n",
            "13799/13799 [==============================] - 4s 287us/sample - loss: 0.0161 - acc: 0.8927 - val_loss: 0.0295 - val_acc: 0.8707\n",
            "Epoch 32/100\n",
            "13799/13799 [==============================] - 4s 285us/sample - loss: 0.0152 - acc: 0.8980 - val_loss: 0.0287 - val_acc: 0.8701\n",
            "Epoch 33/100\n",
            "13799/13799 [==============================] - 4s 285us/sample - loss: 0.0156 - acc: 0.8985 - val_loss: 0.0304 - val_acc: 0.8696\n",
            "Epoch 34/100\n",
            "13799/13799 [==============================] - 4s 287us/sample - loss: 0.0166 - acc: 0.8918 - val_loss: 0.0289 - val_acc: 0.8754\n",
            "Epoch 35/100\n",
            "13799/13799 [==============================] - 4s 286us/sample - loss: 0.0143 - acc: 0.9003 - val_loss: 0.0299 - val_acc: 0.8620\n",
            "Epoch 36/100\n",
            "13799/13799 [==============================] - 4s 284us/sample - loss: 0.0142 - acc: 0.8964 - val_loss: 0.0358 - val_acc: 0.8452\n",
            "Epoch 37/100\n",
            "13799/13799 [==============================] - 4s 282us/sample - loss: 0.0154 - acc: 0.8956 - val_loss: 0.0322 - val_acc: 0.8707\n",
            "Epoch 38/100\n",
            "13799/13799 [==============================] - 4s 285us/sample - loss: 0.0145 - acc: 0.8983 - val_loss: 0.0311 - val_acc: 0.8678\n",
            "Epoch 39/100\n",
            "13799/13799 [==============================] - 4s 285us/sample - loss: 0.0132 - acc: 0.9035 - val_loss: 0.0305 - val_acc: 0.8733\n",
            "Epoch 40/100\n",
            "13799/13799 [==============================] - 4s 287us/sample - loss: 0.0137 - acc: 0.9014 - val_loss: 0.0303 - val_acc: 0.8664\n",
            "Epoch 41/100\n",
            "13799/13799 [==============================] - 4s 287us/sample - loss: 0.0130 - acc: 0.9030 - val_loss: 0.0294 - val_acc: 0.8725\n",
            "Epoch 42/100\n",
            "13799/13799 [==============================] - 4s 286us/sample - loss: 0.0122 - acc: 0.9022 - val_loss: 0.0285 - val_acc: 0.8748\n",
            "Epoch 43/100\n",
            "13799/13799 [==============================] - 4s 284us/sample - loss: 0.0120 - acc: 0.9041 - val_loss: 0.0287 - val_acc: 0.8646\n",
            "Epoch 44/100\n",
            "13799/13799 [==============================] - 4s 280us/sample - loss: 0.0116 - acc: 0.9056 - val_loss: 0.0303 - val_acc: 0.8719\n",
            "Epoch 45/100\n",
            "13799/13799 [==============================] - 4s 284us/sample - loss: 0.0124 - acc: 0.9012 - val_loss: 0.0291 - val_acc: 0.8774\n",
            "Epoch 46/100\n",
            "13799/13799 [==============================] - 4s 287us/sample - loss: 0.0121 - acc: 0.9064 - val_loss: 0.0296 - val_acc: 0.8661\n",
            "Epoch 47/100\n",
            "13799/13799 [==============================] - 4s 282us/sample - loss: 0.0126 - acc: 0.9012 - val_loss: 0.0307 - val_acc: 0.8733\n",
            "Epoch 48/100\n",
            "13799/13799 [==============================] - 4s 283us/sample - loss: 0.0118 - acc: 0.9067 - val_loss: 0.0279 - val_acc: 0.8745\n",
            "Epoch 49/100\n",
            "13799/13799 [==============================] - 4s 288us/sample - loss: 0.0110 - acc: 0.9097 - val_loss: 0.0285 - val_acc: 0.8699\n",
            "Epoch 50/100\n",
            "13799/13799 [==============================] - 4s 284us/sample - loss: 0.0115 - acc: 0.9058 - val_loss: 0.0280 - val_acc: 0.8791\n",
            "Epoch 51/100\n",
            "13799/13799 [==============================] - 4s 288us/sample - loss: 0.0103 - acc: 0.9110 - val_loss: 0.0281 - val_acc: 0.8771\n",
            "Epoch 52/100\n",
            "13799/13799 [==============================] - 4s 286us/sample - loss: 0.0117 - acc: 0.9019 - val_loss: 0.0365 - val_acc: 0.8519\n",
            "Epoch 53/100\n",
            "13799/13799 [==============================] - 4s 283us/sample - loss: 0.0122 - acc: 0.9057 - val_loss: 0.0289 - val_acc: 0.8728\n",
            "Epoch 54/100\n",
            "13799/13799 [==============================] - 4s 287us/sample - loss: 0.0110 - acc: 0.9094 - val_loss: 0.0300 - val_acc: 0.8742\n",
            "Epoch 55/100\n",
            "13799/13799 [==============================] - 4s 285us/sample - loss: 0.0106 - acc: 0.9092 - val_loss: 0.0283 - val_acc: 0.8814\n",
            "Epoch 56/100\n",
            "13799/13799 [==============================] - 4s 284us/sample - loss: 0.0106 - acc: 0.9080 - val_loss: 0.0294 - val_acc: 0.8652\n",
            "Epoch 57/100\n",
            "13799/13799 [==============================] - 4s 282us/sample - loss: 0.0099 - acc: 0.9122 - val_loss: 0.0291 - val_acc: 0.8739\n",
            "Epoch 58/100\n",
            "13799/13799 [==============================] - 4s 282us/sample - loss: 0.0099 - acc: 0.9138 - val_loss: 0.0277 - val_acc: 0.8823\n",
            "Epoch 59/100\n",
            "13799/13799 [==============================] - 4s 280us/sample - loss: 0.0099 - acc: 0.9133 - val_loss: 0.0284 - val_acc: 0.8751\n",
            "Epoch 60/100\n",
            "13799/13799 [==============================] - 4s 283us/sample - loss: 0.0100 - acc: 0.9154 - val_loss: 0.0299 - val_acc: 0.8681\n",
            "Epoch 61/100\n",
            "13799/13799 [==============================] - 4s 282us/sample - loss: 0.0105 - acc: 0.9109 - val_loss: 0.0294 - val_acc: 0.8667\n",
            "Epoch 62/100\n",
            "13799/13799 [==============================] - 4s 286us/sample - loss: 0.0101 - acc: 0.9160 - val_loss: 0.0308 - val_acc: 0.8652\n",
            "Epoch 63/100\n",
            "13799/13799 [==============================] - 4s 287us/sample - loss: 0.0108 - acc: 0.9077 - val_loss: 0.0303 - val_acc: 0.8733\n",
            "Epoch 64/100\n",
            "13799/13799 [==============================] - 4s 286us/sample - loss: 0.0108 - acc: 0.9082 - val_loss: 0.0281 - val_acc: 0.8736\n",
            "Epoch 65/100\n",
            "13799/13799 [==============================] - 4s 286us/sample - loss: 0.0093 - acc: 0.9141 - val_loss: 0.0283 - val_acc: 0.8739\n",
            "Epoch 66/100\n",
            "13799/13799 [==============================] - 4s 283us/sample - loss: 0.0099 - acc: 0.9124 - val_loss: 0.0289 - val_acc: 0.8722\n",
            "Epoch 67/100\n",
            "13799/13799 [==============================] - 4s 286us/sample - loss: 0.0095 - acc: 0.9109 - val_loss: 0.0290 - val_acc: 0.8696\n",
            "Epoch 68/100\n",
            "13799/13799 [==============================] - 4s 284us/sample - loss: 0.0093 - acc: 0.9152 - val_loss: 0.0302 - val_acc: 0.8736\n",
            "Epoch 69/100\n",
            "13799/13799 [==============================] - 4s 284us/sample - loss: 0.0093 - acc: 0.9144 - val_loss: 0.0281 - val_acc: 0.8783\n",
            "Epoch 70/100\n",
            "13799/13799 [==============================] - 4s 281us/sample - loss: 0.0089 - acc: 0.9156 - val_loss: 0.0285 - val_acc: 0.8771\n",
            "Epoch 71/100\n",
            "13799/13799 [==============================] - 4s 282us/sample - loss: 0.0096 - acc: 0.9139 - val_loss: 0.0282 - val_acc: 0.8678\n",
            "Epoch 72/100\n",
            "13799/13799 [==============================] - 4s 282us/sample - loss: 0.0094 - acc: 0.9141 - val_loss: 0.0296 - val_acc: 0.8646\n",
            "Epoch 73/100\n",
            "13799/13799 [==============================] - 4s 284us/sample - loss: 0.0088 - acc: 0.9177 - val_loss: 0.0291 - val_acc: 0.8687\n",
            "Epoch 74/100\n",
            "13799/13799 [==============================] - 4s 285us/sample - loss: 0.0094 - acc: 0.9159 - val_loss: 0.0305 - val_acc: 0.8661\n",
            "Epoch 75/100\n",
            "13799/13799 [==============================] - 4s 287us/sample - loss: 0.0090 - acc: 0.9138 - val_loss: 0.0280 - val_acc: 0.8701\n",
            "Epoch 76/100\n",
            "13799/13799 [==============================] - 4s 286us/sample - loss: 0.0093 - acc: 0.9135 - val_loss: 0.0282 - val_acc: 0.8774\n",
            "Epoch 77/100\n",
            "13799/13799 [==============================] - 4s 286us/sample - loss: 0.0085 - acc: 0.9193 - val_loss: 0.0283 - val_acc: 0.8742\n",
            "Epoch 78/100\n",
            "13799/13799 [==============================] - 4s 285us/sample - loss: 0.0099 - acc: 0.9081 - val_loss: 0.0283 - val_acc: 0.8791\n",
            "Epoch 79/100\n",
            "13799/13799 [==============================] - 4s 282us/sample - loss: 0.0086 - acc: 0.9154 - val_loss: 0.0286 - val_acc: 0.8794\n",
            "Epoch 80/100\n",
            "13799/13799 [==============================] - 4s 283us/sample - loss: 0.0090 - acc: 0.9156 - val_loss: 0.0288 - val_acc: 0.8768\n",
            "Epoch 81/100\n",
            "13799/13799 [==============================] - 4s 284us/sample - loss: 0.0091 - acc: 0.9127 - val_loss: 0.0310 - val_acc: 0.8568\n",
            "Epoch 82/100\n",
            "13799/13799 [==============================] - 4s 286us/sample - loss: 0.0103 - acc: 0.9109 - val_loss: 0.0286 - val_acc: 0.8771\n",
            "Epoch 83/100\n",
            "13799/13799 [==============================] - 4s 288us/sample - loss: 0.0092 - acc: 0.9093 - val_loss: 0.0289 - val_acc: 0.8687\n",
            "Epoch 84/100\n",
            "13799/13799 [==============================] - 4s 285us/sample - loss: 0.0092 - acc: 0.9153 - val_loss: 0.0299 - val_acc: 0.8664\n",
            "Epoch 85/100\n",
            "13799/13799 [==============================] - 4s 282us/sample - loss: 0.0092 - acc: 0.9182 - val_loss: 0.0295 - val_acc: 0.8696\n",
            "Epoch 86/100\n",
            "13799/13799 [==============================] - 4s 280us/sample - loss: 0.0089 - acc: 0.9148 - val_loss: 0.0292 - val_acc: 0.8754\n",
            "Epoch 87/100\n",
            "13799/13799 [==============================] - 4s 278us/sample - loss: 0.0085 - acc: 0.9180 - val_loss: 0.0286 - val_acc: 0.8774\n",
            "Epoch 88/100\n",
            "13799/13799 [==============================] - 4s 280us/sample - loss: 0.0082 - acc: 0.9183 - val_loss: 0.0283 - val_acc: 0.8771\n",
            "Epoch 89/100\n",
            "13799/13799 [==============================] - 4s 282us/sample - loss: 0.0088 - acc: 0.9177 - val_loss: 0.0295 - val_acc: 0.8719\n",
            "Epoch 90/100\n",
            "13799/13799 [==============================] - 4s 285us/sample - loss: 0.0085 - acc: 0.9212 - val_loss: 0.0299 - val_acc: 0.8774\n",
            "Epoch 91/100\n",
            "13799/13799 [==============================] - 4s 287us/sample - loss: 0.0086 - acc: 0.9189 - val_loss: 0.0304 - val_acc: 0.8690\n",
            "Epoch 92/100\n",
            "13799/13799 [==============================] - 4s 279us/sample - loss: 0.0088 - acc: 0.9170 - val_loss: 0.0287 - val_acc: 0.8751\n",
            "Epoch 93/100\n",
            "13799/13799 [==============================] - 4s 281us/sample - loss: 0.0082 - acc: 0.9180 - val_loss: 0.0282 - val_acc: 0.8728\n",
            "Epoch 94/100\n",
            "13799/13799 [==============================] - 4s 288us/sample - loss: 0.0082 - acc: 0.9159 - val_loss: 0.0289 - val_acc: 0.8759\n",
            "Epoch 95/100\n",
            "13799/13799 [==============================] - 4s 291us/sample - loss: 0.0083 - acc: 0.9192 - val_loss: 0.0282 - val_acc: 0.8803\n",
            "Epoch 96/100\n",
            "13799/13799 [==============================] - 4s 295us/sample - loss: 0.0081 - acc: 0.9183 - val_loss: 0.0306 - val_acc: 0.8690\n",
            "Epoch 97/100\n",
            "13799/13799 [==============================] - 4s 295us/sample - loss: 0.0080 - acc: 0.9215 - val_loss: 0.0296 - val_acc: 0.8719\n",
            "Epoch 98/100\n",
            "13799/13799 [==============================] - 4s 287us/sample - loss: 0.0082 - acc: 0.9206 - val_loss: 0.0291 - val_acc: 0.8696\n",
            "Epoch 99/100\n",
            "13799/13799 [==============================] - 4s 284us/sample - loss: 0.0079 - acc: 0.9178 - val_loss: 0.0299 - val_acc: 0.8704\n",
            "Epoch 100/100\n",
            "13799/13799 [==============================] - 4s 287us/sample - loss: 0.0079 - acc: 0.9193 - val_loss: 0.0286 - val_acc: 0.8806\n",
            "Model: \"sequential_4\"\n",
            "_________________________________________________________________\n",
            "Layer (type)                 Output Shape              Param #   \n",
            "=================================================================\n",
            "conv2d_16 (Conv2D)           (None, 62, 62, 32)        896       \n",
            "_________________________________________________________________\n",
            "leaky_re_lu_20 (LeakyReLU)   (None, 62, 62, 32)        0         \n",
            "_________________________________________________________________\n",
            "max_pooling2d_16 (MaxPooling (None, 31, 31, 32)        0         \n",
            "_________________________________________________________________\n",
            "conv2d_17 (Conv2D)           (None, 31, 31, 64)        18496     \n",
            "_________________________________________________________________\n",
            "leaky_re_lu_21 (LeakyReLU)   (None, 31, 31, 64)        0         \n",
            "_________________________________________________________________\n",
            "max_pooling2d_17 (MaxPooling (None, 16, 16, 64)        0         \n",
            "_________________________________________________________________\n",
            "conv2d_18 (Conv2D)           (None, 16, 16, 128)       73856     \n",
            "_________________________________________________________________\n",
            "leaky_re_lu_22 (LeakyReLU)   (None, 16, 16, 128)       0         \n",
            "_________________________________________________________________\n",
            "max_pooling2d_18 (MaxPooling (None, 8, 8, 128)         0         \n",
            "_________________________________________________________________\n",
            "conv2d_19 (Conv2D)           (None, 8, 8, 256)         295168    \n",
            "_________________________________________________________________\n",
            "leaky_re_lu_23 (LeakyReLU)   (None, 8, 8, 256)         0         \n",
            "_________________________________________________________________\n",
            "max_pooling2d_19 (MaxPooling (None, 4, 4, 256)         0         \n",
            "_________________________________________________________________\n",
            "flatten_4 (Flatten)          (None, 4096)              0         \n",
            "_________________________________________________________________\n",
            "dense_8 (Dense)              (None, 1024)              4195328   \n",
            "_________________________________________________________________\n",
            "leaky_re_lu_24 (LeakyReLU)   (None, 1024)              0         \n",
            "_________________________________________________________________\n",
            "dropout_4 (Dropout)          (None, 1024)              0         \n",
            "_________________________________________________________________\n",
            "dense_9 (Dense)              (None, 14)                14350     \n",
            "=================================================================\n",
            "Total params: 4,598,094\n",
            "Trainable params: 4,598,094\n",
            "Non-trainable params: 0\n",
            "_________________________________________________________________\n"
          ],
          "name": "stdout"
        }
      ]
    },
    {
      "cell_type": "markdown",
      "metadata": {
        "id": "_1V5_frhQ0uC",
        "colab_type": "text"
      },
      "source": [
        "##Predict the number of Zernike Coefficient of the test set"
      ]
    },
    {
      "cell_type": "code",
      "metadata": {
        "id": "ykYxkG78aoks",
        "colab_type": "code",
        "outputId": "c50960a9-1b57-4091-bebb-0ff0ff19a615",
        "colab": {
          "base_uri": "https://localhost:8080/",
          "height": 357
        }
      },
      "source": [
        "prediction = model.predict(X_test)\n",
        "print(Y_test)\n",
        "print(prediction)"
      ],
      "execution_count": 0,
      "outputs": [
        {
          "output_type": "stream",
          "text": [
            "[[ 2.2846     1.033      0.18684   ...  0.20042    0.         0.       ]\n",
            " [-1.7664     2.0371     0.22185   ...  0.         0.         0.       ]\n",
            " [ 0.41636   -0.47651    0.55451   ...  0.         0.         0.       ]\n",
            " ...\n",
            " [ 1.2428     0.16655   -1.1258    ...  1.2784     0.         0.       ]\n",
            " [ 0.0052237 -2.5473    -1.1048    ... -0.055589   0.         0.       ]\n",
            " [-1.6092    -2.2334    -1.4391    ...  0.         0.         0.       ]]\n",
            "[[ 2.2588880e+00  1.1272753e+00  1.2887317e-01 ...  1.9083539e-01\n",
            "   7.2275698e-02 -1.8715607e-02]\n",
            " [-1.6996664e+00  1.8011305e+00  2.7814117e-01 ... -2.5250744e-03\n",
            "   2.1786552e-02 -2.8678654e-02]\n",
            " [ 2.2304593e-01 -3.5845852e-01  5.4493368e-01 ...  3.0493997e-03\n",
            "  -1.0884274e-02  5.1874942e-03]\n",
            " ...\n",
            " [ 1.2490994e+00 -7.2999001e-02 -9.5492971e-01 ...  1.3220876e+00\n",
            "   6.4123653e-02 -2.9623067e-02]\n",
            " [-2.8345680e-01 -2.3298922e+00 -1.0489637e+00 ... -8.3889969e-02\n",
            "  -2.7046286e-02  5.2716848e-02]\n",
            " [-1.6268255e+00 -2.1219249e+00 -1.4512175e+00 ... -1.5206745e-02\n",
            "   1.3067085e-02 -7.6670991e-04]]\n"
          ],
          "name": "stdout"
        }
      ]
    },
    {
      "cell_type": "markdown",
      "metadata": {
        "id": "rQcldCyRRRi4",
        "colab_type": "text"
      },
      "source": [
        "##Determine the Root Mean Squared Error"
      ]
    },
    {
      "cell_type": "code",
      "metadata": {
        "id": "ENidAZgGgKvx",
        "colab_type": "code",
        "outputId": "cccfa851-2a6e-4a24-92d6-4786a5a365be",
        "colab": {
          "base_uri": "https://localhost:8080/",
          "height": 34
        }
      },
      "source": [
        "rmse = np.sqrt(mean_squared_error(Y_test, prediction))\n",
        "rmse"
      ],
      "execution_count": 0,
      "outputs": [
        {
          "output_type": "execute_result",
          "data": {
            "text/plain": [
              "0.1678498898007256"
            ]
          },
          "metadata": {
            "tags": []
          },
          "execution_count": 109
        }
      ]
    },
    {
      "cell_type": "markdown",
      "metadata": {
        "id": "qHLVABwFRaRE",
        "colab_type": "text"
      },
      "source": [
        "##Save our model for future prediction"
      ]
    },
    {
      "cell_type": "code",
      "metadata": {
        "id": "pRSznI2paqRl",
        "colab_type": "code",
        "colab": {}
      },
      "source": [
        "model.save('CNN_model_Aug12.h5') "
      ],
      "execution_count": 0,
      "outputs": []
    }
  ]
}