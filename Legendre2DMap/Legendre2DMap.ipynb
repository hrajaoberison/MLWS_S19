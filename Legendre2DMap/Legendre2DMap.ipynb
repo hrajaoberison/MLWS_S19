{
  "nbformat": 4,
  "nbformat_minor": 0,
  "metadata": {
    "colab": {
      "name": "Legendre2DMap.ipynb",
      "version": "0.3.2",
      "provenance": [],
      "collapsed_sections": [],
      "toc_visible": true,
      "include_colab_link": true
    },
    "kernelspec": {
      "name": "python3",
      "display_name": "Python 3"
    }
  },
  "cells": [
    {
      "cell_type": "markdown",
      "metadata": {
        "id": "view-in-github",
        "colab_type": "text"
      },
      "source": [
        "<a href=\"https://colab.research.google.com/github/hrajaoberison/MLWS_S19/blob/master/Legendre2DMap/Legendre2DMap.ipynb\" target=\"_parent\"><img src=\"https://colab.research.google.com/assets/colab-badge.svg\" alt=\"Open In Colab\"/></a>"
      ]
    },
    {
      "cell_type": "markdown",
      "metadata": {
        "id": "2HqfsKSFizR6",
        "colab_type": "text"
      },
      "source": [
        "!/usr/bin/env python3\n",
        " -*- coding: utf-8 -*-\n",
        "\"\"\"\n",
        "Created on Thu Jul 25 14:03:37 2019\n",
        "\n",
        "@author: hrajaoberison\n",
        "\"\"\""
      ]
    },
    {
      "cell_type": "markdown",
      "metadata": {
        "id": "qf6OyC5Hycy4",
        "colab_type": "text"
      },
      "source": [
        "This function produces a sum of 2D Legendre polynomias weighted by the coefficients in v_coef. Should replicate the behavior of LegendreMap, written by Seung-Whan Bahk."
      ]
    },
    {
      "cell_type": "code",
      "metadata": {
        "id": "MT349nwHiVzT",
        "colab_type": "code",
        "outputId": "41293904-6583-4a2a-ffc9-3e100f4e59e4",
        "colab": {
          "base_uri": "https://localhost:8080/",
          "height": 269
        }
      },
      "source": [
        "import numpy as np\n",
        "from scipy import special\n",
        "import matplotlib.pyplot as plt\n",
        "\n",
        "xv = np.array([np.arange(-10.5,11,0.5)])\n",
        "yv = xv\n",
        "\n",
        "Xm, Ym = np.meshgrid(xv,yv)\n",
        "\n",
        "v_coeff = np.array([[3,3,2,1.5,1.5,1.5,1.5]])\n",
        "v_region = np.array([[1,1,12,12]])\n",
        "\n",
        "def Legendre2DMap(v_coeff, Xm, Ym, v_region):\n",
        "    if Xm.shape != Ym.shape:\n",
        "        raise ValueError('Incompatible x and y matrices!')\n",
        "        \n",
        "    Xm_grid = (Xm - v_region[0,0])/v_region[0,2]\n",
        "    Ym_grid = (Ym - v_region[0,1])/v_region[0,3]\n",
        "    \n",
        "    M_out = np.zeros(Xm.shape)\n",
        "    \n",
        "    j_ap = np.array(np.where(np.abs(Xm_grid[0,:])<=1))\n",
        "    i_ap = np.array(np.where(np.abs(Ym_grid[:,0])<=1)).conj().transpose()\n",
        "    \n",
        "    # Loop through coefficients\n",
        "    n=0\n",
        "    for k in range(1, max(v_coeff.shape)+1):\n",
        "        if k > np.sum(np.linspace(1,n+1,n+1))+0.1:\n",
        "          n= n+1 \n",
        "        j_k = (k-1)-np.sum(np.linspace(1,n,n))\n",
        "        i_k = n - j_k\n",
        "        vlx = special.lpmv(0, i_k, Xm_grid[0, j_ap])\n",
        "        vlx = np.squeeze(vlx[0,:]).reshape((1,max(vlx.shape)))\n",
        "\n",
        "        vly = special.lpmv(0, j_k, Ym_grid[i_ap, 1].conj().transpose())\n",
        "        vly = np.squeeze(vly[0,:]).reshape((1,max(vly.shape)))\n",
        "        \n",
        "        Pm_k = (vly.conj().transpose())*vlx\n",
        "        M_out = M_out + v_coeff[0, k-1]*Pm_k\n",
        "    return M_out\n",
        "if __name__ == \"__main__\":\n",
        "  args = (v_coeff, Xm, Ym, v_region)\n",
        "  M_out = Legendre2DMap(*args)\n",
        "  plt.figure(211)\n",
        "  extent = np.min(xv), np.max(xv), np.min(yv), np.max(yv)\n",
        "  im = plt.imshow(np.flipud(M_out), extent=extent, cmap='jet')\n",
        "  plt.colorbar(im)\n",
        "  plt.show()"
      ],
      "execution_count": 0,
      "outputs": [
        {
          "output_type": "display_data",
          "data": {
            "image/png": "[encoded data removed]",
            "text/plain": [
              "<Figure size 432x288 with 2 Axes>"
            ]
          },
          "metadata": {
            "tags": []
          }
        }
      ]
    }
  ]
}